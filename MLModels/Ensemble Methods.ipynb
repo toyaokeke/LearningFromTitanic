{
 "cells": [
  {
   "cell_type": "code",
   "execution_count": 1,
   "metadata": {
    "pycharm": {
     "is_executing": false
    }
   },
   "outputs": [],
   "source": [
    "from sklearn import model_selection\n",
    "from sklearn.linear_model import LogisticRegression\n",
    "from sklearn.svm import SVC\n",
    "from sklearn.naive_bayes import GaussianNB \n",
    "from sklearn.ensemble import RandomForestClassifier, VotingClassifier\n",
    "from sklearn.tree import DecisionTreeClassifier\n",
    "from sklearn.neighbors import KNeighborsClassifier\n",
    "import numpy as np\n",
    "from sklearn.preprocessing import scale\n",
    "\n",
    "import sys\n",
    "sys.path.insert(0, '../titanic/')\n",
    "import load_titanic_data \n",
    "\n",
    "import warnings\n",
    "warnings.filterwarnings(\"ignore\")"
   ]
  },
  {
   "cell_type": "code",
   "execution_count": 2,
   "metadata": {
    "pycharm": {
     "is_executing": false
    }
   },
   "outputs": [],
   "source": [
    "clf1 = LogisticRegression()\n",
    "clf2 = SVC(kernel = 'rbf', C = 1, probability=True)\n",
    "clf3 = DecisionTreeClassifier(min_samples_split = 40)\n",
    "clf4 = KNeighborsClassifier(weights='distance')"
   ]
  },
  {
   "cell_type": "code",
   "execution_count": 3,
   "metadata": {
    "pycharm": {
     "is_executing": false
    }
   },
   "outputs": [],
   "source": [
    "eclf_hard = VotingClassifier(estimators=[('lr',clf1), ('svc', clf2), ('dt', clf3), ('knn',clf4)], voting='hard', weights=[1,1,2,2])"
   ]
  },
  {
   "cell_type": "code",
   "execution_count": 4,
   "metadata": {
    "pycharm": {
     "is_executing": false
    }
   },
   "outputs": [],
   "source": [
    "eclf_soft = VotingClassifier(estimators=[('lr',clf1), ('svc', clf2), ('dt', clf3), ('knn',clf4)], voting='soft', weights=[1,1,2,2])"
   ]
  },
  {
   "cell_type": "code",
   "execution_count": 5,
   "metadata": {
    "pycharm": {
     "is_executing": false
    }
   },
   "outputs": [],
   "source": [
    "classifiers = ['Logistic Regression', 'SVM', 'Decision Tree', 'KNN', 'Hard Ensemble', 'Soft Ensemble']"
   ]
  },
  {
   "cell_type": "code",
   "execution_count": 6,
   "metadata": {
    "pycharm": {
     "is_executing": false
    }
   },
   "outputs": [
    {
     "name": "stdout",
     "output_type": "stream",
     "text": [
      "\n",
      "Training Set Info:\n",
      "<class 'pandas.core.frame.DataFrame'>\n",
      "RangeIndex: 891 entries, 0 to 890\n",
      "Data columns (total 6 columns):\n",
      "Survived    891 non-null int64\n",
      "Pclass      891 non-null int64\n",
      "Sex         891 non-null int64\n",
      "Age         891 non-null int64\n",
      "SibSp       891 non-null int64\n",
      "Parch       891 non-null int64\n",
      "dtypes: int64(6)\n",
      "memory usage: 41.9 KB\n",
      "None\n",
      "5-fold cross validation:\n",
      "\n",
      "Logistic Regression Cross Validation Scores: [0.81005587 0.80446927 0.78651685 0.7752809  0.81920904]\n",
      "SVM Cross Validation Scores: [0.77094972 0.80446927 0.78651685 0.7752809  0.79661017]\n",
      "Decision Tree Cross Validation Scores: [0.77094972 0.79888268 0.80898876 0.78089888 0.75706215]\n",
      "KNN Cross Validation Scores: [0.77653631 0.79329609 0.74157303 0.79775281 0.76271186]\n",
      "Hard Ensemble Cross Validation Scores: [0.7877095  0.81005587 0.79775281 0.78089888 0.76271186]\n",
      "Soft Ensemble Cross Validation Scores: [0.79888268 0.80446927 0.81460674 0.79213483 0.83050847]\n"
     ]
    }
   ],
   "source": [
    "# team should drop features they do not want for training\n",
    "data = load_titanic_data.train_data(drop_columns = {\"PassengerId\", \"Name\", \"Ticket\", \"Fare\", \"Embarked\", \"Cabin\"})\n",
    "\n",
    "print('5-fold cross validation:\\n')\n",
    "for clf, label in zip([clf1, clf2, clf3, clf4, eclf_hard, eclf_soft], classifiers):\n",
    "    scores = model_selection.cross_val_score(clf, scale(data[\"features\"]), data[\"labels\"],cv=5)\n",
    "    print(\"{l} Cross Validation Scores: {s}\".format(l = label, s = scores))"
   ]
  },
  {
   "cell_type": "code",
   "execution_count": null,
   "metadata": {
    "pycharm": {
     "is_executing": false
    }
   },
   "outputs": [],
   "source": []
  }
 ],
 "metadata": {
  "kernelspec": {
   "display_name": "Python 3",
   "language": "python",
   "name": "python3"
  },
  "language_info": {
   "codemirror_mode": {
    "name": "ipython",
    "version": 3
   },
   "file_extension": ".py",
   "mimetype": "text/x-python",
   "name": "python",
   "nbconvert_exporter": "python",
   "pygments_lexer": "ipython3",
   "version": "3.7.4"
  },
  "pycharm": {
   "stem_cell": {
    "cell_type": "raw",
    "metadata": {
     "collapsed": false
    },
    "source": []
   }
  }
 },
 "nbformat": 4,
 "nbformat_minor": 2
}
